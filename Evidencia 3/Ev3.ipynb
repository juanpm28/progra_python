{
  "nbformat": 4,
  "nbformat_minor": 0,
  "metadata": {
    "colab": {
      "provenance": []
    },
    "kernelspec": {
      "name": "python3",
      "display_name": "Python 3"
    },
    "language_info": {
      "name": "python"
    }
  },
  "cells": [
    {
      "cell_type": "code",
      "execution_count": 1,
      "metadata": {
        "colab": {
          "base_uri": "https://localhost:8080/"
        },
        "id": "7W0EOj5T4PNL",
        "outputId": "d6e3c79a-b323-40bf-d8b2-d4ebfad2e574"
      },
      "outputs": [
        {
          "output_type": "stream",
          "name": "stdout",
          "text": [
            "Objeto guardado en mi_objeto.pickle\n",
            "Objeto recuperado: {'nombre': 'Juan', 'edad': 21, 'ciudad': 'General Escobedo'}\n"
          ]
        }
      ],
      "source": [
        "import pickle\n",
        "\n",
        "# Objeto a serializar\n",
        "mi_objeto = {\n",
        "    'nombre': 'Juan',\n",
        "    'edad': 21,\n",
        "    'ciudad': 'General Escobedo'\n",
        "}\n",
        "\n",
        "# Función para serializar y guardar en un archivo\n",
        "def guardar_objeto(objeto, archivo):\n",
        "    try:\n",
        "        with open(archivo, 'wb') as f:\n",
        "            pickle.dump(objeto, f)\n",
        "        print(f'Objeto guardado en {archivo}')\n",
        "    except Exception as e:\n",
        "        print(f'Error al guardar el objeto: {e}')\n",
        "\n",
        "# Función para leer el archivo y deserializar el objeto\n",
        "def leer_objeto(archivo):\n",
        "    try:\n",
        "        with open(archivo, 'rb') as f:\n",
        "            objeto_recuperado = pickle.load(f)\n",
        "        print(f'Objeto recuperado: {objeto_recuperado}')\n",
        "    except Exception as e:\n",
        "        print(f'Error al leer el objeto: {e}')\n",
        "\n",
        "# Guardar el objeto en un archivo\n",
        "guardar_objeto(mi_objeto, 'mi_objeto.pickle')\n",
        "\n",
        "# Leer el archivo y recuperar el objeto\n",
        "leer_objeto('mi_objeto.pickle')"
      ]
    }
  ]
}